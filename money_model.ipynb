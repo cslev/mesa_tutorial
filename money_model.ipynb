{
 "cells": [
  {
   "cell_type": "code",
   "execution_count": 3,
   "metadata": {},
   "outputs": [],
   "source": [
    "import mesa #for MESA\n",
    "import seaborn as sns #data visualization\n",
    "import numpy as np\n",
    "import pandas as pd\n",
    "\n",
    "#function that will calculate Gini index for the model \n",
    "# Gini measures of wealth inequality.\n",
    "def compute_gini(model:mesa.Model):\n",
    "  #all agent wealth\n",
    "  agent_wealths = [agent.wealth for agent in model.schedule.agents]\n",
    "  x = sorted(agent_wealths)\n",
    "  N = model.num_agents\n",
    "  B = sum(xi * (N - i) for i, xi in enumerate(x)) / (N * sum(x))\n",
    "  return 1 + (1 / N) - 2 * B"
   ]
  },
  {
   "cell_type": "markdown",
   "metadata": {},
   "source": [
    "# Create RectangularRenderer for the grid"
   ]
  },
  {
   "cell_type": "code",
   "execution_count": null,
   "metadata": {},
   "outputs": [],
   "source": [
    "import matplotlib\n",
    "import matplotlib.pyplot as plt\n",
    "\n",
    "class RectangularAgentPortraya(mesa.visualization.Porrayal):\n",
    "  def __init__(self, width, height ,color):\n",
    "    super().__init__()"
   ]
  },
  {
   "cell_type": "markdown",
   "metadata": {},
   "source": [
    "Create an agent by creating a new class that extends `mesa.Agent`"
   ]
  },
  {
   "cell_type": "code",
   "execution_count": 28,
   "metadata": {},
   "outputs": [],
   "source": [
    "class MoneyAgent(mesa.Agent):\n",
    "  \"\"\"A money agent with a fixed amount of initial wealth.\"\"\"\n",
    "  def __init__(self, unique_id:int, model:mesa.Model, num_other_agents:int, initial_wealth:int):\n",
    "    #need to be initialized by a unique id and the model (defined later) where it will belong to\n",
    "    #pass the params to the parent class\n",
    "    super().__init__(unique_id, model)\n",
    "    #define our extra variables for our agents as the above just creates an \"empty\" object\n",
    "    self.wealth=initial_wealth\n",
    "    #set the number of all agents to be represented because it will be needed for padding the id with leading zeroes when printed\n",
    "    self.padding = len(str(num_other_agents))\n",
    "    #to keep track of steps when no wealth was given\n",
    "    self.steps_not_given = 0\n",
    "\n",
    "  \"\"\" \n",
    "  every agent is expected to have a step() function for the scheduler to call\n",
    "  \"\"\"\n",
    "  def step(self):\n",
    "    #let's move the agent to a new cell\n",
    "    self.move()\n",
    "    #try to give money to another agent in the same cell\n",
    "    self.give_money()\n",
    "\n",
    "  \"\"\"\n",
    "  every agent can move on the grid they are placed into\n",
    "  \"\"\"\n",
    "  def move(self):\n",
    "    #get the possible steps, i.e., the surrounding cells\n",
    "    possible_steps = self.model.grid.get_neighborhood(\n",
    "      self.pos,\n",
    "      moore=True, #includes all 8 surrounding squares (other is von Neumann, only left/right,up/down)\n",
    "      include_center=False #staying in at the same space is not allowed\n",
    "    )\n",
    "    #decide the next position\n",
    "    new_position = self.random.choice(possible_steps)\n",
    "    #place the agent to the new position\n",
    "    self.model.grid.move_agent(self, new_position)\n",
    "  \n",
    "  \"\"\"\n",
    "  every agent can give money to a random other agent in the same cell\n",
    "  \"\"\"\n",
    "  def give_money(self):\n",
    "    #check if agent is broke\n",
    "    if self.wealth == 0:\n",
    "      self.steps_not_given += 1\n",
    "      return \n",
    "    #get the cellmates of the agent\n",
    "    cellmates = self.model.grid.get_cell_list_contents([self.pos])\n",
    "    #let's get rid if the agent itself, coz we won't give money for ourselves, doesn't make sense - unnecessary actions\n",
    "    cellmates.pop(cellmates.index(self))\n",
    "    #if there is still an agent in the cell\n",
    "    if(len(cellmates) > 1):\n",
    "      #chose another agent randomly\n",
    "      other = self.random.choice(cellmates) \n",
    "      # add money to that agent\n",
    "      other.wealth += 1\n",
    "      self.wealth -=1\n",
    "      self.steps_not_given = 0\n",
    "    else:\n",
    "      self.steps_not_given += 1\n",
    "\n",
    "    # print(f\"cellmates of agent #{self.unique_id} at position {self.pos}\")\n",
    "    # for i in cellmates:\n",
    "    #   print(f\"{i.unique_id}\")\n"
   ]
  },
  {
   "cell_type": "markdown",
   "metadata": {},
   "source": [
    "Create the model. The model can be visualized as a grid containing all the agents. The model creates, holds and manages all the agents on the grid. The model evolves in discrete time steps.\n"
   ]
  },
  {
   "cell_type": "code",
   "execution_count": 29,
   "metadata": {},
   "outputs": [],
   "source": [
    "class MoneyModel(mesa.Model):\n",
    "  \"\"\"A money model with some agents\"\"\"\n",
    "  def __init__(self, num_agents:int, initial_wealth:int, grid_x:int, grid_y:int): #the number of agents is specified by N\n",
    "    super().__init__()\n",
    "    #set the number of agents\n",
    "    self.num_agents = num_agents\n",
    "    \"\"\" \n",
    "      Add the scheduler. The scheduler controls the order in which agents are activated, \n",
    "      causing the agent to take their defined action. \n",
    "      The scheduler is also responsible for advancing the model by one step. Hence,\n",
    "    \"\"\"\n",
    "    # Create scheduler and assign it to the model\n",
    "    self.schedule = mesa.time.RandomActivation(self)\n",
    "   \n",
    "    #create a grid where agents can move\n",
    "    self.grid = mesa.space.MultiGrid(width=grid_x, height=grid_y, torus=True) #sets grid to be a toroidal, so no edge is there:left continues on the right, and vice versa in all directions\n",
    "\n",
    "    \"\"\"Additional variable for batched runs\"\"\"\n",
    "    self.running = True\n",
    "\n",
    "    #create agents\n",
    "    for i in range(0, self.num_agents):\n",
    "      a = MoneyAgent(i, self, num_other_agents = self.num_agents, initial_wealth=initial_wealth)\n",
    "      #add agent to scheduler\n",
    "      self.schedule.add(a)\n",
    "      #add agent to a random cell on the grid\n",
    "      x = self.random.randrange(self.grid.width)\n",
    "      y = self.random.randrange(self.grid.height)\n",
    "      self.grid.place_agent(a, (x,y))\n",
    "      \"\"\"\n",
    "      Note: an agent has a pos variable with an (x, y) coordinate tuple. The place_agent method adds the coordinate to the agent automatically.\n",
    "      \"\"\"\n",
    "\n",
    "    \"\"\"\n",
    "    Data collector:  model-level variables, agent-level variables, and tables (which are a catch-all for everything else). \n",
    "    Model- and agent-level variables are added to the data collector along with a function for collecting them. \n",
    "    Model-level collection functions take a model object as an input, while agent-level collection functions take an agent object as an input. \n",
    "    Both then return a value computed from the model or each agent at their current state. When the data collector’s collect method is called, \n",
    "    with a model object as its argument, it applies each model-level collection function to the model, and stores the results in a dictionary, \n",
    "    associating the current value with the current step of the model. Similarly, the method applies each agent-level collection function to \n",
    "    each agent currently in the schedule, associating the resulting value with the step of the model, and the agent’s unique_id.\n",
    "    \"\"\"\n",
    "    #on agent level, we collect every agent's wealth as Wealth. And we create a reporter called Gini, that will use the wealth data to compute gini\n",
    "    #we need to implement the compute_gini function of course\n",
    "    #we also add a another agent_reporter for wealth tracking and to track the number of steps an agent hasn't given any wealth\n",
    "    self.datacollector = mesa.DataCollector(\n",
    "            model_reporters={\"Gini\": compute_gini}, \n",
    "            agent_reporters={\"Wealth\": \"wealth\", \"Steps_not_given\": \"steps_not_given\"} \n",
    "        )\n",
    "\n",
    "\n",
    "  def step(self):\n",
    "    \"\"\" Advance the model by one step \"\"\"\n",
    "    self.schedule.step() #this will call the step() function of each agent\n",
    "    self.datacollector.collect(self) #update data collector at every step\n",
    " \n"
   ]
  },
  {
   "cell_type": "markdown",
   "metadata": {},
   "source": [
    "Running the model"
   ]
  },
  {
   "cell_type": "code",
   "execution_count": 6,
   "metadata": {},
   "outputs": [],
   "source": [
    "#instantiate the model\n",
    "my_money_model = MoneyModel(num_agents=100,grid_x=10,grid_y=10, initial_wealth=1)\n",
    "#run the model a couple of times\n",
    "num_steps=100\n",
    "for i in range(0,num_steps):\n",
    "  my_money_model.step()\n",
    "  # print(\"======================\")"
   ]
  },
  {
   "cell_type": "markdown",
   "metadata": {},
   "source": [
    "visualize the number of agents residing in a cell via seaborn"
   ]
  },
  {
   "cell_type": "code",
   "execution_count": 7,
   "metadata": {},
   "outputs": [],
   "source": [
    "agent_counts = np.zeros((my_money_model.grid.width, my_money_model.grid.height))\n",
    "for cell_content, (x,y) in my_money_model.grid.coord_iter():\n",
    "  agent_count = len(cell_content)\n",
    "  agent_counts[x][y] = agent_count\n",
    "\n",
    "#plot using seaborn\n",
    "g = sns.heatmap(agent_counts, cmap=\"viridis\", annot=True, cbar=False,square=True)\n",
    "g.figure.set_size_inches(4,4)\n",
    "g.set(title=f\"Number of agents on each cell of the grid after {num_steps} steps\");"
   ]
  },
  {
   "cell_type": "markdown",
   "metadata": {},
   "source": [
    "Get the Gini coefficients"
   ]
  },
  {
   "cell_type": "code",
   "execution_count": 8,
   "metadata": {},
   "outputs": [],
   "source": [
    "gini = my_money_model.datacollector.get_model_vars_dataframe() #returns the data in a pandas dataframe\n",
    "# print(gini)\n",
    "#plot gini\n",
    "g = sns.lineplot(data=gini)\n",
    "g.set(title=f\"Gini Coefficient over Time for {my_money_model.num_agents} agents\",\n",
    "      ylabel=\"Gini Coefficient\",\n",
    "      xlabel=\"Time [Steps]\");"
   ]
  },
  {
   "cell_type": "markdown",
   "metadata": {},
   "source": [
    "Let's get some information out of the model"
   ]
  },
  {
   "cell_type": "code",
   "execution_count": 9,
   "metadata": {},
   "outputs": [],
   "source": [
    "#list of agent wealths\n",
    "agent_wealth = [a.wealth for a in my_money_model.schedule.agents]\n",
    "# print(agent_wealth)\n",
    "#get min and max for setting xticks\n",
    "min=np.min(agent_wealth)\n",
    "max=np.max(agent_wealth)\n",
    "#create plot using seaborn\n",
    "g = sns.histplot(agent_wealth, discrete=True)\n",
    "\n",
    "\n",
    "g.set(title=f\"Wealth distribution among {my_money_model.num_agents} agents after {num_steps} steps\",\n",
    "      xlabel=\"Wealth\",\n",
    "      ylabel=\"Number of agents\",); #semicolon avoids printing out the object info\n",
    "g.set(xticks=list(range(min,max+1)));"
   ]
  },
  {
   "cell_type": "markdown",
   "metadata": {},
   "source": [
    "we can get the same info using our collector"
   ]
  },
  {
   "cell_type": "code",
   "execution_count": 10,
   "metadata": {},
   "outputs": [],
   "source": [
    "agent_wealth = my_money_model.datacollector.get_agent_vars_dataframe()\n",
    "#agent_wealth.head(n=20)\n",
    "#get the last step from the dataframe\n",
    "last_step = agent_wealth.index.get_level_values(\"Step\").max()\n",
    "# print(last_step)\n",
    "#get the wealth data for the last step\n",
    "end_wealth = agent_wealth.xs(key=last_step, level=\"Step\")[\"Wealth\"]\n",
    "# print(end_wealth)\n",
    "# Create a histogram of wealth at the last step\n",
    "g = sns.histplot(end_wealth, discrete=True)\n",
    "g.set(\n",
    "    title=\"Distribution of wealth at the end of simulation\",\n",
    "    xlabel=\"Wealth\",\n",
    "    ylabel=\"Number of agents\",\n",
    ");\n",
    "\n"
   ]
  },
  {
   "cell_type": "markdown",
   "metadata": {},
   "source": [
    "Plot the wealth of a given agent in the function of time"
   ]
  },
  {
   "cell_type": "code",
   "execution_count": 11,
   "metadata": {},
   "outputs": [
    {
     "name": "stdout",
     "output_type": "stream",
     "text": [
      "      Wealth  Steps_not_given\n",
      "Step                         \n",
      "1          1                1\n",
      "2          0                0\n",
      "3          0                1\n",
      "4          0                2\n",
      "5          0                3\n",
      "...      ...              ...\n",
      "96         0                9\n",
      "97         0               10\n",
      "98         0               11\n",
      "99         0               12\n",
      "100        0               13\n",
      "\n",
      "[100 rows x 2 columns]\n"
     ]
    }
   ],
   "source": [
    "#get the wealth of agent #14\n",
    "agent_id = 14\n",
    "agent_wealth.head()\n",
    "one_agent_wealth = agent_wealth.xs(key=agent_id, level=\"AgentID\")\n",
    "print(one_agent_wealth)\n",
    "\n",
    "#plot\n",
    "g = sns.lineplot(data=one_agent_wealth, x=\"Step\", y=\"Wealth\")\n",
    "g.set(title=f\"Wealth of agent {agent_id} over time\");"
   ]
  },
  {
   "cell_type": "markdown",
   "metadata": {},
   "source": [
    "Plot more than one agents wealth change over time"
   ]
  },
  {
   "cell_type": "code",
   "execution_count": 12,
   "metadata": {},
   "outputs": [
    {
     "name": "stdout",
     "output_type": "stream",
     "text": [
      "              Wealth  Steps_not_given\n",
      "Step AgentID                         \n",
      "1    44            1                1\n",
      "     1             2                1\n",
      "     14            1                1\n",
      "2    14            0                0\n",
      "     1             1                0\n",
      "...              ...              ...\n",
      "99   14            0               12\n",
      "     1             0                2\n",
      "100  1             0                3\n",
      "     14            0               13\n",
      "     44            2               13\n",
      "\n",
      "[300 rows x 2 columns]\n"
     ]
    }
   ],
   "source": [
    "agent_list = [1,14, 44]\n",
    "# agent_list = agent_wealth.index.get_level_values(\"AgentID\")\n",
    "# print(agent_list)\n",
    "#get the wealths of multiple agents over time\n",
    "multiple_agent_wealth = agent_wealth[agent_wealth.index.get_level_values(\"AgentID\").isin(agent_list)]\n",
    "print(multiple_agent_wealth)\n",
    "g = sns.lineplot(data=multiple_agent_wealth, x=\"Step\", y=\"Wealth\", hue=\"AgentID\")\n",
    "g.set(title=f\"Wealth of agents over time\");"
   ]
  },
  {
   "cell_type": "markdown",
   "metadata": {},
   "source": [
    "# Batch run\n",
    "We usually won’t run a model only once, but multiple times, with fixed parameters to find the overall distributions the model generates, and with varying parameters to analyze how they drive the model’s outputs and behaviors. Instead of needing to write nested for-loops for each model, Mesa provides a batch_run function which automates it for you.\n",
    "\n",
    "To make the results a little bit more interesting, we have added a reporter to calculate the number of consecutive time steps an agent hasn’t given any wealth as an agent reporter.\n",
    "\n",
    "In the following example, we hold the height and width fixed, and vary the number of agents. We tell the batch runner to run 5 instantiations of the model with each number of agents, and to run each for 100 steps.\n",
    "\n",
    "We want to keep track of\n",
    "1. the Gini coefficient value at each time step, and\n",
    "2. the individual agent’s wealth development and steps without giving money.\n",
    "\n"
   ]
  },
  {
   "cell_type": "code",
   "execution_count": 13,
   "metadata": {},
   "outputs": [
    {
     "data": {
      "application/vnd.jupyter.widget-view+json": {
       "model_id": "11c8c3607a2f4beba6438dfe76467208",
       "version_major": 2,
       "version_minor": 0
      },
      "text/plain": [
       "  0%|          | 0/95 [00:00<?, ?it/s]"
      ]
     },
     "metadata": {},
     "output_type": "display_data"
    }
   ],
   "source": [
    "params = {\"grid_x\": 10, \"grid_y\":10, \"num_agents\":range(5,100,5), \"initial_wealth\":1}\n",
    "results = mesa.batch_run(\n",
    "  MoneyModel,\n",
    "  parameters=params,\n",
    "  iterations=5,\n",
    "  max_steps=100,\n",
    "  number_processes=1,\n",
    "  data_collection_period=1,\n",
    "  display_progress=True,\n",
    ")"
   ]
  },
  {
   "cell_type": "markdown",
   "metadata": {},
   "source": [
    "Convert the results of the batch run to pandas dataframe"
   ]
  },
  {
   "cell_type": "code",
   "execution_count": 14,
   "metadata": {},
   "outputs": [
    {
     "name": "stdout",
     "output_type": "stream",
     "text": [
      "Index(['RunId', 'iteration', 'Step', 'grid_x', 'grid_y', 'num_agents', 'Gini',\n",
      "       'AgentID', 'Wealth', 'Steps_not_given'],\n",
      "      dtype='object')\n"
     ]
    }
   ],
   "source": [
    "results_df = pd.DataFrame(results)\n",
    "print(results_df.keys())"
   ]
  },
  {
   "cell_type": "markdown",
   "metadata": {},
   "source": [
    "Let's take a closer look at how the Gini coefficient at the end of each episode changes as we increase the size of the population. For this, we filter our results to only contain the data of one agent (the Gini coefficient will be the same for the entire population at any time) at the 100th step of each episode and then scatter-plot the values for the Gini coefficient over the number of agents. Notice there are five values for each population size since we set iterations=5 when calling the batch run."
   ]
  },
  {
   "cell_type": "code",
   "execution_count": 15,
   "metadata": {},
   "outputs": [],
   "source": [
    "results_filtered = results_df[(results_df.AgentID == 0) & (results_df.Step==100)]\n",
    "results_filtered[[\"iteration\",\"num_agents\",\"Gini\"]].reset_index(drop=True).head()\n",
    "g = sns.scatterplot(data=results_filtered, x=\"num_agents\", y=\"Gini\")\n",
    "g.set(\n",
    "    xlabel=\"Number of agents\",\n",
    "    ylabel=\"Gini coefficient\",\n",
    "    title=\"Gini coefficient vs. number of agents\",\n",
    ");\n",
    "\n",
    "# Create a point plot with error bars\n",
    "g = sns.pointplot(data=results_filtered, x=\"num_agents\", y=\"Steps_not_given\", linestyle='none')\n",
    "g.figure.set_size_inches(8, 4)\n",
    "g.set(\n",
    "    xlabel=\"Number of agents\",\n",
    "    ylabel=\"Steps no wealth given\",\n",
    "    title=\"Steps no wealth given vs. number of agents\",\n",
    ");\n"
   ]
  },
  {
   "cell_type": "markdown",
   "metadata": {},
   "source": [
    "# Analyzing model reporters: Comparing 5 scenarios\n",
    "Other insights might be gathered when we compare the Gini coefficient of different scenarios. For example, we can compare the Gini coefficient of a population with 25 agents to the Gini coefficient of a population with 400 agents. While doing this, we increase the number of iterations to 25 to get a better estimate of the Gini coefficient for each population size and get usable error estimations."
   ]
  },
  {
   "cell_type": "code",
   "execution_count": 16,
   "metadata": {},
   "outputs": [
    {
     "data": {
      "application/vnd.jupyter.widget-view+json": {
       "model_id": "85f697f42f0045798ad2422be827f034",
       "version_major": 2,
       "version_minor": 0
      },
      "text/plain": [
       "  0%|          | 0/500 [00:00<?, ?it/s]"
      ]
     },
     "metadata": {},
     "output_type": "display_data"
    }
   ],
   "source": [
    "params = {\"grid_x\": 10, \"grid_y\": 10, \"num_agents\": [5, 10, 20, 40, 80], \"initial_wealth\":1}\n",
    "results_5s = mesa.batch_run(\n",
    "    MoneyModel,\n",
    "    parameters=params,\n",
    "    iterations=100,\n",
    "    max_steps=120,\n",
    "    number_processes=1,\n",
    "    data_collection_period=1,  # Important, otherwise the datacollector will only collect data of the last time step\n",
    "    display_progress=True,\n",
    ")\n",
    "\n",
    "results_5s_df = pd.DataFrame(results_5s)"
   ]
  },
  {
   "cell_type": "code",
   "execution_count": 17,
   "metadata": {},
   "outputs": [
    {
     "data": {
      "text/html": [
       "<div>\n",
       "<style scoped>\n",
       "    .dataframe tbody tr th:only-of-type {\n",
       "        vertical-align: middle;\n",
       "    }\n",
       "\n",
       "    .dataframe tbody tr th {\n",
       "        vertical-align: top;\n",
       "    }\n",
       "\n",
       "    .dataframe thead th {\n",
       "        text-align: right;\n",
       "    }\n",
       "</style>\n",
       "<table border=\"1\" class=\"dataframe\">\n",
       "  <thead>\n",
       "    <tr style=\"text-align: right;\">\n",
       "      <th></th>\n",
       "      <th>RunId</th>\n",
       "      <th>iteration</th>\n",
       "      <th>Step</th>\n",
       "      <th>grid_x</th>\n",
       "      <th>grid_y</th>\n",
       "      <th>num_agents</th>\n",
       "      <th>Gini</th>\n",
       "      <th>AgentID</th>\n",
       "      <th>Wealth</th>\n",
       "      <th>Steps_not_given</th>\n",
       "    </tr>\n",
       "  </thead>\n",
       "  <tbody>\n",
       "    <tr>\n",
       "      <th>3</th>\n",
       "      <td>0</td>\n",
       "      <td>0</td>\n",
       "      <td>1</td>\n",
       "      <td>10</td>\n",
       "      <td>10</td>\n",
       "      <td>5</td>\n",
       "      <td>0.0</td>\n",
       "      <td>0.0</td>\n",
       "      <td>1.0</td>\n",
       "      <td>1.0</td>\n",
       "    </tr>\n",
       "    <tr>\n",
       "      <th>9</th>\n",
       "      <td>0</td>\n",
       "      <td>0</td>\n",
       "      <td>2</td>\n",
       "      <td>10</td>\n",
       "      <td>10</td>\n",
       "      <td>5</td>\n",
       "      <td>0.0</td>\n",
       "      <td>0.0</td>\n",
       "      <td>1.0</td>\n",
       "      <td>2.0</td>\n",
       "    </tr>\n",
       "    <tr>\n",
       "      <th>15</th>\n",
       "      <td>0</td>\n",
       "      <td>0</td>\n",
       "      <td>3</td>\n",
       "      <td>10</td>\n",
       "      <td>10</td>\n",
       "      <td>5</td>\n",
       "      <td>0.0</td>\n",
       "      <td>0.0</td>\n",
       "      <td>1.0</td>\n",
       "      <td>3.0</td>\n",
       "    </tr>\n",
       "  </tbody>\n",
       "</table>\n",
       "</div>"
      ],
      "text/plain": [
       "    RunId  iteration  Step  grid_x  grid_y  num_agents  Gini  AgentID  Wealth  \\\n",
       "3       0          0     1      10      10           5   0.0      0.0     1.0   \n",
       "9       0          0     2      10      10           5   0.0      0.0     1.0   \n",
       "15      0          0     3      10      10           5   0.0      0.0     1.0   \n",
       "\n",
       "    Steps_not_given  \n",
       "3               1.0  \n",
       "9               2.0  \n",
       "15              3.0  "
      ]
     },
     "execution_count": 17,
     "metadata": {},
     "output_type": "execute_result"
    }
   ],
   "source": [
    "# Again filter the results to only contain the data of one agent (the Gini coefficient will be the same for the entire population at any time)\n",
    "results_5s_df_filtered = results_5s_df[(results_5s_df.AgentID == 0)]\n",
    "results_5s_df_filtered.head(3)"
   ]
  },
  {
   "cell_type": "code",
   "execution_count": 18,
   "metadata": {},
   "outputs": [],
   "source": [
    "# Create a lineplot with error bars\n",
    "g = sns.lineplot(\n",
    "    data=results_5s_df,\n",
    "    x=\"Step\",\n",
    "    y=\"Gini\",\n",
    "    hue=\"num_agents\",\n",
    "    errorbar=(\"ci\", 95),\n",
    "    palette=\"tab10\",\n",
    ")\n",
    "g.figure.set_size_inches(8, 4)\n",
    "plot_title = \"Gini coefficient for different population sizes\\n(mean over 100 runs, with 95% confidence interval)\"\n",
    "g.set(title=plot_title, ylabel=\"Gini coefficient\");"
   ]
  },
  {
   "cell_type": "markdown",
   "metadata": {},
   "source": [
    "From the agents we collected the wealth and the number of consecutive rounds without a transaction. We can compare the 5 different population sizes by plotting the average number of consecutive rounds without a transaction for each population size."
   ]
  },
  {
   "cell_type": "code",
   "execution_count": 19,
   "metadata": {},
   "outputs": [
    {
     "data": {
      "text/html": [
       "<div>\n",
       "<style scoped>\n",
       "    .dataframe tbody tr th:only-of-type {\n",
       "        vertical-align: middle;\n",
       "    }\n",
       "\n",
       "    .dataframe tbody tr th {\n",
       "        vertical-align: top;\n",
       "    }\n",
       "\n",
       "    .dataframe thead th {\n",
       "        text-align: right;\n",
       "    }\n",
       "</style>\n",
       "<table border=\"1\" class=\"dataframe\">\n",
       "  <thead>\n",
       "    <tr style=\"text-align: right;\">\n",
       "      <th></th>\n",
       "      <th>iteration</th>\n",
       "      <th>num_agents</th>\n",
       "      <th>Step</th>\n",
       "      <th>Wealth</th>\n",
       "      <th>Steps_not_given</th>\n",
       "    </tr>\n",
       "  </thead>\n",
       "  <tbody>\n",
       "    <tr>\n",
       "      <th>0</th>\n",
       "      <td>0</td>\n",
       "      <td>5</td>\n",
       "      <td>0</td>\n",
       "      <td>NaN</td>\n",
       "      <td>NaN</td>\n",
       "    </tr>\n",
       "    <tr>\n",
       "      <th>1</th>\n",
       "      <td>0</td>\n",
       "      <td>5</td>\n",
       "      <td>1</td>\n",
       "      <td>1.0</td>\n",
       "      <td>1.0</td>\n",
       "    </tr>\n",
       "    <tr>\n",
       "      <th>2</th>\n",
       "      <td>0</td>\n",
       "      <td>5</td>\n",
       "      <td>2</td>\n",
       "      <td>1.0</td>\n",
       "      <td>2.0</td>\n",
       "    </tr>\n",
       "  </tbody>\n",
       "</table>\n",
       "</div>"
      ],
      "text/plain": [
       "   iteration  num_agents  Step  Wealth  Steps_not_given\n",
       "0          0           5     0     NaN              NaN\n",
       "1          0           5     1     1.0              1.0\n",
       "2          0           5     2     1.0              2.0"
      ]
     },
     "execution_count": 19,
     "metadata": {},
     "output_type": "execute_result"
    }
   ],
   "source": [
    "# Calculate the mean of the wealth and the number of consecutive rounds for all agents in each episode\n",
    "agg_results_df = (\n",
    "    results_5s_df.groupby([\"iteration\", \"num_agents\", \"Step\"])\n",
    "    .agg({\"Wealth\": \"mean\", \"Steps_not_given\": \"mean\"})\n",
    "    .reset_index()\n",
    ")\n",
    "agg_results_df.head(3)"
   ]
  },
  {
   "cell_type": "code",
   "execution_count": 20,
   "metadata": {},
   "outputs": [],
   "source": [
    "# Create a line plot with error bars\n",
    "g = sns.lineplot(\n",
    "    data=agg_results_df, x=\"Step\", y=\"Steps_not_given\", hue=\"num_agents\", palette=\"tab10\",errorbar=(\"ci\", 95),\n",
    ")\n",
    "g.figure.set_size_inches(8, 4)\n",
    "g.set(\n",
    "    title=\"Average number of consecutive rounds without a transaction for different population sizes\\n(mean with 95% confidence interval)\",\n",
    "    ylabel=\"Consecutive rounds without a transaction\",\n",
    ");"
   ]
  },
  {
   "cell_type": "markdown",
   "metadata": {},
   "source": [
    "# Visualization (on-the-fly)\n"
   ]
  },
  {
   "cell_type": "code",
   "execution_count": 34,
   "metadata": {},
   "outputs": [
    {
     "data": {
      "application/vnd.jupyter.widget-view+json": {
       "model_id": "b72656223502488eb4ec072404001973",
       "version_major": 2,
       "version_minor": 0
      },
      "text/html": [
       "Cannot show widget. You probably want to rerun the code cell above (<i>Click in the code cell, and press Shift+Enter <kbd>⇧</kbd>+<kbd>↩</kbd></i>)."
      ],
      "text/plain": [
       "Cannot show ipywidgets in text"
      ]
     },
     "metadata": {},
     "output_type": "display_data"
    }
   ],
   "source": [
    "from mesa.experimental import JupyterViz\n",
    "import solara\n",
    "from matplotlib.figure import Figure\n",
    "\n",
    "def agent_portrayal(agent):\n",
    "    #this color and size if for broken agents\n",
    "    size = 10\n",
    "    color = \"tab:red\"\n",
    "    #if an agent is not broken, we use the following color and size\n",
    "    if agent.wealth > 0:\n",
    "        size *= agent.wealth\n",
    "        color = \"tab:blue\"\n",
    "        if agent.wealth > 4:\n",
    "            color = \"tab:green\"\n",
    "            size *=1.5\n",
    "            if agent.wealth > 6:\n",
    "                color = \"tab:pink\"\n",
    "                size = 100\n",
    "\n",
    "    \n",
    "    return { \"color\": color, \"size\": size }\n",
    "\n",
    "def make_histogram(model):\n",
    "    \"\"\"let's make another plot that shows the agents and their wealth on a histogram\"\"\"\n",
    "    fig = Figure()\n",
    "    ax = fig.subplots()\n",
    "    wealth_vals = [agent.wealth for agent in model.schedule.agents]\n",
    "    ax.hist(wealth_vals, bins=10)\n",
    "    solara.FigureMatplotlib(fig)\n",
    "\n",
    "model_params = {\n",
    "    \"num_agents\": {\n",
    "        \"type\": \"SliderInt\",\n",
    "        \"value\": 50,\n",
    "        \"label\": \"Number of agents:\",\n",
    "        \"min\": 10,\n",
    "        \"max\": 100,\n",
    "        \"step\": 1,\n",
    "    },\n",
    "    \"initial_wealth\": {\n",
    "        \"type\": \"SliderInt\",\n",
    "        \"value\":1,\n",
    "        \"label\":\"Initial wealth\",\n",
    "        \"min\": 1,\n",
    "        \"max\": 5,\n",
    "        \"step\" : 1,\n",
    "    },\n",
    "    \"grid_x\": 10,\n",
    "    \"grid_y\": 10,\n",
    "}\n",
    "\n",
    "page = JupyterViz(\n",
    "    MoneyModel,\n",
    "    model_params,\n",
    "    measures=[\"Gini\", make_histogram],\n",
    "    name=\"Money Model\",\n",
    "    agent_portrayal=agent_portrayal,\n",
    ")\n",
    "# This is required to render the visualization in the Jupyter notebook\n",
    "page"
   ]
  }
 ],
 "metadata": {
  "kernelspec": {
   "display_name": ".venv",
   "language": "python",
   "name": "python3"
  },
  "language_info": {
   "codemirror_mode": {
    "name": "ipython",
    "version": 3
   },
   "file_extension": ".py",
   "mimetype": "text/x-python",
   "name": "python",
   "nbconvert_exporter": "python",
   "pygments_lexer": "ipython3",
   "version": "3.9.19"
  }
 },
 "nbformat": 4,
 "nbformat_minor": 2
}
