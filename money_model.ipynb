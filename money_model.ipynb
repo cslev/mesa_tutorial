{
 "cells": [
  {
   "cell_type": "code",
   "execution_count": 48,
   "metadata": {},
   "outputs": [],
   "source": [
    "import mesa #for MESA\n",
    "import seaborn as sns #data visualization\n",
    "import numpy as np\n",
    "import pandas as pd\n"
   ]
  },
  {
   "cell_type": "markdown",
   "metadata": {},
   "source": [
    "Create an agent by creating a new class that extends `mesa.Agent`"
   ]
  },
  {
   "cell_type": "code",
   "execution_count": 49,
   "metadata": {},
   "outputs": [],
   "source": [
    "class MoneyAgent(mesa.Agent):\n",
    "  \"\"\"A money agent with a fixed amount of initial wealth.\"\"\"\n",
    "  def __init__(self, unique_id, model, num_other_agents):\n",
    "    #need to be initialized by a unique id and the model (defined later) where it will belong to\n",
    "    #pass the params to the parent class\n",
    "    super().__init__(unique_id, model)\n",
    "    #define our extra variables for our agents as the above just creates an \"empty\" object\n",
    "    self.wealth=1\n",
    "    #set the number of all agents to be represented because it will be needed for padding the id with leading zeroes when printed\n",
    "    self.padding = len(str(num_other_agents))\n",
    "\n",
    "  #every agent is expected to have a step() function for the scheduler to call\n",
    "  def step(self):\n",
    "    \n",
    "    #let's add one unit of money to a random other agent\n",
    "    if self.wealth>0: #we should have at least one unit sia\n",
    "      other_agent = self.random.choice(self.model.schedule.agents)\n",
    "      if other_agent is not None: #there is someone else I can give money to\n",
    "        other_agent.wealth += 1\n",
    "        self.wealth -= 1\n",
    "    \n",
    "    # print(f\"agent #{self.unique_id:0{self.padding}d} has a wealth of {self.wealth}\")\n"
   ]
  },
  {
   "cell_type": "markdown",
   "metadata": {},
   "source": [
    "Create the model. The model can be visualized as a grid containing all the agents. The model creates, holds and manages all the agents on the grid. The model evolves in discrete time steps.\n"
   ]
  },
  {
   "cell_type": "code",
   "execution_count": 50,
   "metadata": {},
   "outputs": [],
   "source": [
    "class MoneyModel(mesa.Model):\n",
    "  \"\"\"A money model with some agents\"\"\"\n",
    "  def __init__(self, N): #the number of agents is specified by N\n",
    "    super().__init__()\n",
    "    #set the number of agents\n",
    "    self.num_agents = N\n",
    "    \"\"\" \n",
    "      Add the scheduler. The scheduler controls the order in which agents are activated, \n",
    "      causing the agent to take their defined action. \n",
    "      The scheduler is also responsible for advancing the model by one step. Hence,\n",
    "    \"\"\"\n",
    "    # Create scheduler and assign it to the model\n",
    "    self.schedule = mesa.time.RandomActivation(self)\n",
    "    #create agents\n",
    "    for i in range(0,self.num_agents):\n",
    "      a = MoneyAgent(i, self, num_other_agents=self.num_agents)\n",
    "      #add agent to scheduler\n",
    "      self.schedule.add(a)\n",
    "\n",
    "  def step(self):\n",
    "    \"\"\" Advance the model by one step \"\"\"\n",
    "    self.schedule.step() #this will call the step() function of each agent\n",
    " \n"
   ]
  },
  {
   "cell_type": "markdown",
   "metadata": {},
   "source": [
    "Running the model"
   ]
  },
  {
   "cell_type": "code",
   "execution_count": 51,
   "metadata": {},
   "outputs": [],
   "source": [
    "#instantiate the model\n",
    "my_money_model = MoneyModel(12)\n",
    "#run the model a couple of times\n",
    "num_steps=10\n",
    "for i in range(0,num_steps):\n",
    "  my_money_model.step()\n",
    "  # print(\"======================\")"
   ]
  },
  {
   "cell_type": "markdown",
   "metadata": {},
   "source": [
    "Let's get some information out of the model"
   ]
  },
  {
   "cell_type": "code",
   "execution_count": 58,
   "metadata": {},
   "outputs": [
    {
     "name": "stdout",
     "output_type": "stream",
     "text": [
      "[2, 1, 2, 0, 1, 2, 0, 3, 0, 0, 1, 0]\n"
     ]
    },
    {
     "data": {
      "image/png": "[encoded data removed]",
      "text/plain": [
       "<Figure size 640x480 with 1 Axes>"
      ]
     },
     "metadata": {},
     "output_type": "display_data"
    }
   ],
   "source": [
    "#list of agent wealths\n",
    "agent_wealth = [a.wealth for a in my_money_model.schedule.agents]\n",
    "print(agent_wealth)\n",
    "#create plot using seaborn\n",
    "g = sns.histplot(agent_wealth, discrete=True)\n",
    "g.set(title=\"Wealth distribution\",\n",
    "      xlabel=\"Wealth\",\n",
    "      ylabel=\"Number of agents\"); #semicolon avoids printing out the object info"
   ]
  }
 ],
 "metadata": {
  "kernelspec": {
   "display_name": ".venv",
   "language": "python",
   "name": "python3"
  },
  "language_info": {
   "codemirror_mode": {
    "name": "ipython",
    "version": 3
   },
   "file_extension": ".py",
   "mimetype": "text/x-python",
   "name": "python",
   "nbconvert_exporter": "python",
   "pygments_lexer": "ipython3",
   "version": "3.9.19"
  }
 },
 "nbformat": 4,
 "nbformat_minor": 2
}
